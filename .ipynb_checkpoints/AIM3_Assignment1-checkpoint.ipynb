{
 "cells": [
  {
   "cell_type": "markdown",
   "metadata": {},
   "source": [
    "# <p align=\"center\"> AIM3 - Assignment 1</p>"
   ]
  },
  {
   "cell_type": "markdown",
   "metadata": {},
   "source": [
    "# 1. Bonferroni Principle\n",
    "    \n",
    "## a.\n",
    "    Total Number of Peoples = 1,000,000,000\n",
    "    Everyone goes to a hotel one day in 100.\n",
    "    Each Hotel Capacity = 100\n",
    "    So (1,000,000,000)/(100*100) = 100,000 hotels\n",
    "    Total Days examined  = 2000"
   ]
  },
  {
   "cell_type": "markdown",
   "metadata": {},
   "source": [
    "$\\qquad Total\\ Number\\ of\\ Pairs\\ of\\ People =\\ \\  ^{n}C_{2} $\n",
    "\n",
    "$\\qquad \\qquad   = \\frac{n!}{(2!)(n-2)!}\\quad $\n",
    "\n",
    "$\\qquad \\qquad  =\\ ^{(1,000,000,000)}C_{2}  $\n",
    "\n",
    "$\\qquad \\qquad  =\\ 500000000 *  999999999 $"
   ]
  },
  {
   "cell_type": "markdown",
   "metadata": {},
   "source": [
    "    Probability of any two people both deciding to visit a hotel on any given day is.\n",
    "    \n",
    "$\\qquad= P(p1)*P(p2)\\ = 0.01 * 0.01\\ = 0.0001  $\n",
    "\n",
    "    Chance that they visit same hotel \n",
    "$\\qquad= \\frac{P(p1)*P(p2)}{10^5}\\ = \\frac{0.0001}{10^5}\\ = 10^{-9}  $\n",
    "\n",
    "    Chance that they visit same hotel  on 2 different days \n",
    "$\\qquad= \\frac{P(p1)*P(p2)}{10^5} * \\frac{P(p1)*P(p2)}{10^5}\\ = \\frac{0.0001}{10^5} * \\frac{0.0001}{10^5}\\ = 10^{-9} * 10^{-9} = 10^{-18}  $\n",
    "    "
   ]
  },
  {
   "cell_type": "markdown",
   "metadata": {},
   "source": [
    "$\\qquad  Total\\ Pairs\\ of\\ Days\\  = \\ \\  ^{2000}C_{2} $\n",
    "\n",
    "$\\qquad\\qquad = \\frac{2000!}{(2!)(2000-2)!}\\quad $\n",
    "\n",
    "$\\qquad\\qquad$ $ =\\ 1999000  $"
   ]
  },
  {
   "cell_type": "markdown",
   "metadata": {},
   "source": [
    "    The total pair of people might be evil-doing \n",
    "\n",
    "$\\qquad = 500000000 ∗ 999999999  * 1999000 * 10^{-18} $\n",
    "\n",
    "$\\qquad =999,499.99 = 999,500 $"
   ]
  },
  {
   "cell_type": "markdown",
   "metadata": {},
   "source": [
    "## b. "
   ]
  },
  {
   "cell_type": "markdown",
   "metadata": {},
   "source": []
  }
 ],
 "metadata": {
  "kernelspec": {
   "display_name": "Python 3",
   "language": "python",
   "name": "python3"
  },
  "language_info": {
   "codemirror_mode": {
    "name": "ipython",
    "version": 3
   },
   "file_extension": ".py",
   "mimetype": "text/x-python",
   "name": "python",
   "nbconvert_exporter": "python",
   "pygments_lexer": "ipython3",
   "version": "3.6.0"
  }
 },
 "nbformat": 4,
 "nbformat_minor": 2
}
