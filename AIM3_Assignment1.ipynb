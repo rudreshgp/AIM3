{
 "cells": [
  {
   "cell_type": "markdown",
   "metadata": {},
   "source": [
    "# <p align=\"center\"> AIM3 - Assignment 1</p>"
   ]
  },
  {
   "cell_type": "markdown",
   "metadata": {},
   "source": [
    "# 1. Bonferroni Principle\n",
    "    \n",
    "## a.\n",
    "According to problem definition, Total Number of Peoples = $1,000,000,000$ and Everyone goes to a hotel one day in $100$. Each Hotel Capacity = $100$, So $\\frac{1,000,000,000}{100*100} = 100,000$ hotels and the Total Days examined  = $2000$"
   ]
  },
  {
   "cell_type": "markdown",
   "metadata": {},
   "source": [
    "Total Number of Pairs of People = $^{1\\ billion}C_{2}$\n",
    "\n",
    "$$=\\frac{1\\ billion!}{(2!)(1\\ billion-2)!}\\quad $$\n",
    "\n",
    "$$=\\ ^{(1,000,000,000)}C_{2}$$\n",
    "\n",
    "$$=\\ 500000000 *  999999999 $$"
   ]
  },
  {
   "cell_type": "markdown",
   "metadata": {},
   "source": [
    "Probability that any two people both deciding to visit a hotel on any given day is.\n",
    "\n",
    "$$\\ $$\n",
    "$$= P(p1)*P(p2)\\ = 0.01 * 0.01\\ = 0.0001  $$\n",
    "\n",
    "Chance that they visit same hotel \n",
    "$$=\\frac{P(p1)*P(p2)}{10^5}\\ = \\frac{0.0001}{10^5}\\ = 10^{-9}  $$\n",
    "\n",
    "Chance that they visit same hotel  on 2 different days \n",
    "$$= \\frac{P(p1)*P(p2)}{10^5} * \\frac{P(p1)*P(p2)}{10^5}\\ $$ \n",
    "$$= \\frac{0.0001}{10^5} * \\frac{0.0001}{10^5}$$ \n",
    "$$= 10^{-9} * 10^{-9}$$ $$= 10^{-18}  $$\n"
   ]
  },
  {
   "cell_type": "markdown",
   "metadata": {},
   "source": [
    "Total Pairs of Days  $=\\ \\ ^{2000}C_{2} $\n",
    "\n",
    "$$= \\frac{2000!}{(2!)(2000-2)!} $$\n",
    "\n",
    "$$ =\\ 1999000  $$"
   ]
  },
  {
   "cell_type": "markdown",
   "metadata": {},
   "source": [
    "The total pair of people might be evil-doing \n",
    "\n",
    "$$ = 500000000 ∗ 999999999  * 1999000 * 10^{-18} $$\n",
    "\n",
    "$$ =999499.99 = 999500 $$"
   ]
  },
  {
   "cell_type": "markdown",
   "metadata": {},
   "source": [
    "## b. \n",
    "\n",
    "Total Number of Peoples = 2,000,000,000\n",
    "\n",
    "Everyone goes to a hotel one day in 100.\n",
    "\n",
    "Each Hotel Capacity = 100\n",
    "\n",
    "So (2,000,000,000)/(100*100) = 200,000 hotels\n",
    "\n",
    "Total Days examined  = 2000"
   ]
  },
  {
   "cell_type": "markdown",
   "metadata": {},
   "source": [
    "Total Number of Pairs of People $=\\ \\  ^{2\\ billion}C_{2} $\n",
    "\n",
    "$$= \\frac{2\\ billion!}{(2!)(2\\ billion-2)!}$$\n",
    "\n",
    "$$  =\\ ^{(2,000,000,000)}C_{2}  $$\n",
    "\n",
    "$$  =\\ 1,000,000,000 * 1,999,999,999 $$"
   ]
  },
  {
   "cell_type": "markdown",
   "metadata": {},
   "source": [
    "Probability of any two people both deciding to visit a hotel on any given day is.\n",
    "    \n",
    "$$= P(p1)*P(p2)\\ = 0.01 * 0.01\\ = 0.0001  $$\n",
    "\n",
    "Chance that they visit same hotel \n",
    "\n",
    "$$= \\frac{P(p1)*P(p2)}{2*10^5} $$ \n",
    "\n",
    "$$= \\frac{0.0001}{2*10^5}\\ $$\n",
    "\n",
    "$$= 5* 10^{-10}  $$\n",
    "\n",
    "Chance that they visit same hotel  on 2 different days \n",
    "\n",
    "$$= \\frac{P(p1)*P(p2)}{2*10^5} * \\frac{P(p1)*P(p2)}{2*10^5}$$\n",
    "\n",
    "$$= \\frac{0.0001}{2*10^5} * \\frac{0.0001}{2*10^5} $$ \n",
    "\n",
    "$$= 5*10^{-10} * 5* 10^{-10} $$ $$ =25* 10^{-20}  $$"
   ]
  },
  {
   "cell_type": "markdown",
   "metadata": {},
   "source": [
    "Total Pairs of Days $ = \\ \\  ^{2000}C_{2} $\n",
    "\n",
    "$$ = \\frac{2000!}{(2!)(2000-2)!} $$\n",
    "\n",
    "$$ =\\ 1999000  $$"
   ]
  },
  {
   "cell_type": "markdown",
   "metadata": {},
   "source": [
    "The total pair of people might be evil-doing \n",
    "\n",
    "$$= (1,000,000,000 * 1,999,999,999)  * 1999000 * 25 * 10^{-20} $$\n",
    "\n",
    "$$ =999499.99 = 999500 $$"
   ]
  },
  {
   "cell_type": "markdown",
   "metadata": {},
   "source": [
    "# 2. The Base of Natural Logarithms\n",
    "## a. \n",
    "#### $ i).\\qquad(1.01)^{500} $\n",
    "$\\qquad\\ = \\left[(1 + \\frac{1}{100})^{100} \\right]^{5} $\n",
    "\n",
    "$\\qquad\\ = e^{5} $"
   ]
  },
  {
   "cell_type": "markdown",
   "metadata": {},
   "source": [
    "#### $ ii).\\qquad(1.05)^{1000} $\n",
    "$\\qquad\\ = \\left[(1 + \\frac{1}{20})^{20} \\right]^{50} $\n",
    "\n",
    "$\\qquad\\ = e^{50} $"
   ]
  },
  {
   "cell_type": "markdown",
   "metadata": {},
   "source": [
    "#### $ iii).\\qquad(0.9)^{40} $\n",
    "$\\qquad\\ = \\left[(1 - \\frac{1}{10})^{10} \\right]^{4} $\n",
    "\n",
    "$\\qquad\\ = e^{-4} $"
   ]
  },
  {
   "cell_type": "markdown",
   "metadata": {},
   "source": [
    "## b."
   ]
  },
  {
   "cell_type": "markdown",
   "metadata": {},
   "source": [
    "Let data = \"1,2,2,3,3,3,4,4,4,4,...10,10,10\"\n",
    "\n",
    "Length = $\\frac{N(N+1)}{2}$\n",
    "\n",
    "N = 10\n",
    "\n",
    "Length = $\\frac{10*11}{2} = 55 $"
   ]
  },
  {
   "cell_type": "markdown",
   "metadata": {},
   "source": [
    "### $ F_0 = \\Sigma_{i=1}^{55}1 = 55 $"
   ]
  },
  {
   "cell_type": "markdown",
   "metadata": {},
   "source": [
    "### $ F1 =  \\Sigma_{i=1}^{10} {i*i} = 385 $"
   ]
  },
  {
   "cell_type": "markdown",
   "metadata": {},
   "source": [
    "### $ F_2 = \\Sigma_{i=1}^{10} i*i^2 = 3025  $"
   ]
  },
  {
   "cell_type": "markdown",
   "metadata": {
    "collapsed": false
   },
   "source": [
    "# 3.The Distribution of distances in High-Dimensional space"
   ]
  },
  {
   "cell_type": "markdown",
   "metadata": {
    "collapsed": false
   },
   "source": [
    "Let $X$ be a random variable uniformly distributed over $[0,L]$, i.e., the probability density function of $X$ is the following\n",
    "\n",
    "$$f_X (x) = \\begin{cases} \\frac{1}{L} & \\textrm{if} \\quad{} x \\in [0,L]\\\\ 0 & \\textrm{otherwise}\\end{cases}$$\n",
    "\n",
    "Let us randomly pick two points in $[0,L]$ *independently*. Let us denote those by $X_1$ and $X_2$, which are random variables distributed according to $f_X$. The distance between the two points is a new random variable\n",
    "\n",
    "$$Y = |X_1 - X_2|$$\n",
    "\n",
    "Hence, we would like to find the expected value $\\mathbb{E}(Y) = \\mathbb{E}( |X_1 - X_2| )$. Let us introduce function $g$\n",
    "\n",
    "$$g (x_1,x_2) = |x_1 - x_2| = \\begin{cases} x_1 - x_2 & \\textrm{if} \\quad{} x_1 \\geq x_2\\\\ x_2 - x_1 & \\textrm{if} \\quad{} x_2 \\geq x_1\\end{cases}$$\n",
    "\n",
    "Since the two points are picked independently, the joint probability density function is the product of the pdf's of $X_1$ and $X_2$, i.e., $f_{X_1 X_2} (x_1, x_2) = f_{X_1} (x_1) f_{X_2} (x_2) = 1 / L^2$ in $[0,L] \\times [0,L]$. Therefore, the expected value $\\mathbb{E}(Y) = \\mathbb{E}(g(X_1,X_2))$ is given by\n",
    "\n",
    "$$\\begin{align} \\mathbb{E}(Y) &= \\displaystyle\\int_{0}^L\\int_{0}^L g(x_1,x_2) \\, f_{X_1 X_2} (x_1, x_2) \\,d x_1 \\, d x_2\\\\[6pt]\n",
    " &= \\frac{1}{L^2} \\int_0^L\\int_0^L |x_1 - x_2|  \\,d x_1 \\, d x_2\\\\[6pt]\n",
    " &= \\frac{1}{L^2} \\int_0^L\\int_0^{x_1} (x_1 - x_2) \\,d x_2 \\, d x_1 + \\frac{1}{L^2} \\int_0^L\\int_{x_1}^L (x_2 - x_1) \\,d x_2 \\, d x_1\\\\[6pt]\n",
    " &= \\frac{L^3}{6 L^2} + \\frac{L^3}{6 L^2} = \\frac{L}{3}\\end{align}$$\n",
    "\n",
    " "
   ]
  },
  {
   "cell_type": "markdown",
   "metadata": {
    "collapsed": true
   },
   "source": [
    "# 4. Clustering"
   ]
  },
  {
   "cell_type": "markdown",
   "metadata": {},
   "source": [
    "## a."
   ]
  },
  {
   "cell_type": "markdown",
   "metadata": {
    "collapsed": true
   },
   "source": [
    "| Algorithm | Cluster Shapes                                        | Input Parameters                                                                                                                                                                   | Limitations                                                                                                                                                                                                                                                                                                                                      |\n",
    "|-----------|-------------------------------------------------------|------------------------------------------------------------------------------------------------------------------------------------------------------------------------------------|--------------------------------------------------------------------------------------------------------------------------------------------------------------------------------------------------------------------------------------------------------------------------------------------------------------------------------------------------|\n",
    "| K-means   | Sperical                                              | 1. K: Number of clusters                                                                                                                                                           | limited to small Datasets which can fit in memory                                                                                                                                                                                                                                                                                                |\n",
    "| DBSCAN    | Arbitrary shape                                       | 1. eps: Maximum radius of the neighbourhood. <br>2. MinPts: Minimum number of points in the Eps neighbourhood of a point                                                               | 1. If the eps value chosen is too small, a large part of the data will not be clustered. It will be considered outliers because don’t satisfy the number of points to create a dense region.  <br>2. On the other hand, if the value that was chosen is too high, clusters will get merged and the majority of objects will be in the same cluster. |\n",
    "| BIRCH     | Sperical                                              | 1. average maximum distance between two points in the cluster.                                                                                                                     | 1. Sensitive to insertion order of data points <br>2. Due to the fixed size of leaf nodes, clusters may not be so natural. <br/>3. Handles only numeric data                                                                                                                                                                                                                         |\n",
    "| BFR       | eclipse with orientation either in X or Y dimension.  | 1. K: Number of clusters and data in Chunks that will fit in memory.  <br>2. Maximum diameter between data points or Maximum Radius between data points (Maximum Threshold distance). | 1. The clusters in data for which the BFR algorithm may be used can have standard deviations that differ along different axes, but the axes of the cluster must align with the axes of the space. <br/>2. Handles only numeric data                                                                                                                                                 |\n",
    "| CURE      | Any shape                                             | 1. \"% of distance\" by which points should be moved towards the centroid.  <br>2. The minimum distance between two clusters                                                            |1.CURE ignores the information about the aggregate inter-connectivity of objects in two clusters      |"
   ]
  },
  {
   "cell_type": "markdown",
   "metadata": {},
   "source": [
    "## b."
   ]
  },
  {
   "cell_type": "markdown",
   "metadata": {},
   "source": [
    "Cluster = $\\big[ \\left[4,8\\right],\\left[9,5\\right],\\left[2,2\\right] \\big] $\n",
    "\n",
    "Centroid = $\\left[5,5 \\right] $\n",
    "\n",
    "SSE =  $ \\LARGE\\Sigma_{i=0}^{2} $ ${(Cluster[i] - Centroid)^2 } $ \n",
    "\n",
    "\n",
    "SSE =  $ ((-1)^2+3^2)+(4^2+0^2) +((-3)^2 + (-3)^2)  =  44.0$ \n"
   ]
  },
  {
   "cell_type": "markdown",
   "metadata": {},
   "source": [
    "## c."
   ]
  },
  {
   "cell_type": "code",
   "execution_count": 113,
   "metadata": {
    "collapsed": false
   },
   "outputs": [],
   "source": [
    "a = [[3, 0],\n",
    "       [0, 7],\n",
    "       [6, 5]]"
   ]
  },
  {
   "cell_type": "code",
   "execution_count": null,
   "metadata": {
    "collapsed": true
   },
   "outputs": [],
   "source": []
  }
 ],
 "metadata": {
  "kernelspec": {
   "display_name": "Python 3",
   "language": "python",
   "name": "python3"
  },
  "language_info": {
   "codemirror_mode": {
    "name": "ipython",
    "version": 3
   },
   "file_extension": ".py",
   "mimetype": "text/x-python",
   "name": "python",
   "nbconvert_exporter": "python",
   "pygments_lexer": "ipython3",
   "version": "3.6.0"
  }
 },
 "nbformat": 4,
 "nbformat_minor": 2
}
