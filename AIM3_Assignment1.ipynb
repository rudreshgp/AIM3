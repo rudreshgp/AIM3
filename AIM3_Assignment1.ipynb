{
 "cells": [
  {
   "cell_type": "markdown",
   "metadata": {},
   "source": [
    "# <p align=\"center\"> AIM3 - Assignment 1</p>"
   ]
  },
  {
   "cell_type": "markdown",
   "metadata": {},
   "source": [
    "# 1. Bonferroni Principle\n",
    "    \n",
    "## a.\n",
    "    Total Number of Peoples = 1,000,000,000\n",
    "    Everyone goes to a hotel one day in 100.\n",
    "    Each Hotel Capacity = 100\n",
    "    So (1,000,000,000)/(100*100) = 100,000 hotels\n",
    "    Total Days examined  = 2000"
   ]
  },
  {
   "cell_type": "markdown",
   "metadata": {},
   "source": [
    "$\\qquad Total\\ Number\\ of\\ Pairs\\ of\\ People =\\ \\  ^{1\\ billion}C_{2} $\n",
    "\n",
    "$\\qquad \\qquad   = \\frac{1\\ billion!}{(2!)(1\\ billion-2)!}\\quad $\n",
    "\n",
    "$\\qquad \\qquad  =\\ ^{(1,000,000,000)}C_{2}  $\n",
    "\n",
    "$\\qquad \\qquad  =\\ 500000000 *  999999999 $"
   ]
  },
  {
   "cell_type": "markdown",
   "metadata": {},
   "source": [
    "    Probability of any two people both deciding to visit a hotel on any given day is.\n",
    "    \n",
    "$\\qquad= P(p1)*P(p2)\\ = 0.01 * 0.01\\ = 0.0001  $\n",
    "\n",
    "    Chance that they visit same hotel \n",
    "$\\qquad= \\frac{P(p1)*P(p2)}{10^5}\\ = \\frac{0.0001}{10^5}\\ = 10^{-9}  $\n",
    "\n",
    "    Chance that they visit same hotel  on 2 different days \n",
    "$\\qquad= \\frac{P(p1)*P(p2)}{10^5} * \\frac{P(p1)*P(p2)}{10^5}\\ = \\frac{0.0001}{10^5} * \\frac{0.0001}{10^5}\\ = 10^{-9} * 10^{-9} = 10^{-18}  $\n"
   ]
  },
  {
   "cell_type": "markdown",
   "metadata": {},
   "source": [
    "$\\qquad  Total\\ Pairs\\ of\\ Days\\  = \\ \\  ^{2000}C_{2} $\n",
    "\n",
    "$\\qquad\\qquad = \\frac{2000!}{(2!)(2000-2)!}\\quad $\n",
    "\n",
    "$\\qquad\\qquad$ $ =\\ 1999000  $"
   ]
  },
  {
   "cell_type": "markdown",
   "metadata": {},
   "source": [
    "    The total pair of people might be evil-doing \n",
    "\n",
    "$\\qquad = 500000000 ∗ 999999999  * 1999000 * 10^{-18} $\n",
    "\n",
    "$\\qquad =999499.99 = 999500 $"
   ]
  },
  {
   "cell_type": "markdown",
   "metadata": {},
   "source": [
    "## b. \n",
    "\n",
    "    Total Number of Peoples = 2,000,000,000\n",
    "    Everyone goes to a hotel one day in 100.\n",
    "    Each Hotel Capacity = 100\n",
    "    So (2,000,000,000)/(100*100) = 200,000 hotels\n",
    "    Total Days examined  = 2000"
   ]
  },
  {
   "cell_type": "markdown",
   "metadata": {},
   "source": [
    "$\\qquad Total\\ Number\\ of\\ Pairs\\ of\\ People =\\ \\  ^{2\\ billion}C_{2} $\n",
    "\n",
    "$\\qquad \\qquad   = \\frac{2\\ billion!}{(2!)(2\\ billion-2)!}\\quad $\n",
    "\n",
    "$\\qquad \\qquad  =\\ ^{(2,000,000,000)}C_{2}  $\n",
    "\n",
    "$\\qquad \\qquad  =\\ 1,000,000,000 * 1,999,999,999 $"
   ]
  },
  {
   "cell_type": "markdown",
   "metadata": {},
   "source": [
    "    Probability of any two people both deciding to visit a hotel on any given day is.\n",
    "    \n",
    "$\\qquad= P(p1)*P(p2)\\ = 0.01 * 0.01\\ = 0.0001  $\n",
    "\n",
    "    Chance that they visit same hotel \n",
    "$\\qquad= \\frac{P(p1)*P(p2)}{2*10^5}\\ = \\frac{0.0001}{2*10^5}\\ = 5* 10^{-10}  $\n",
    "\n",
    "    Chance that they visit same hotel  on 2 different days \n",
    "$\\qquad= \\frac{P(p1)*P(p2)}{2*10^5} * \\frac{P(p1)*P(p2)}{2*10^5}\\ = \\frac{0.0001}{2*10^5} * \\frac{0.0001}{2*10^5}\\ = 5*10^{-10} * 5* 10^{-10} =25* 10^{-20}  $\n"
   ]
  },
  {
   "cell_type": "markdown",
   "metadata": {},
   "source": [
    "$\\qquad  Total\\ Pairs\\ of\\ Days\\  = \\ \\  ^{2000}C_{2} $\n",
    "\n",
    "$\\qquad\\qquad = \\frac{2000!}{(2!)(2000-2)!}\\quad $\n",
    "\n",
    "$\\qquad\\qquad$ $ =\\ 1999000  $"
   ]
  },
  {
   "cell_type": "markdown",
   "metadata": {},
   "source": [
    "    The total pair of people might be evil-doing \n",
    "\n",
    "$\\qquad = (1,000,000,000 * 1,999,999,999)  * 1999000 * 25 * 10^{-20} $\n",
    "\n",
    "$\\qquad =999499.99 = 999500 $"
   ]
  },
  {
   "cell_type": "markdown",
   "metadata": {},
   "source": [
    "# 2. The Base of Natural Logarithms\n",
    "## a. \n",
    "#### $ i).\\qquad(1.01)^{500} $\n",
    "$\\qquad\\ = \\left[(1 + \\frac{1}{100})^{100} \\right]^{5} $\n",
    "\n",
    "$\\qquad\\ = e^{5} $"
   ]
  },
  {
   "cell_type": "markdown",
   "metadata": {},
   "source": [
    "#### $ ii).\\qquad(1.05)^{1000} $\n",
    "$\\qquad\\ = \\left[(1 + \\frac{1}{20})^{20} \\right]^{50} $\n",
    "\n",
    "$\\qquad\\ = e^{50} $"
   ]
  },
  {
   "cell_type": "markdown",
   "metadata": {},
   "source": [
    "#### $ ii).\\qquad(0.9)^{40} $\n",
    "$\\qquad\\ = \\left[(1 - \\frac{1}{10})^{10} \\right]^{4} $\n",
    "\n",
    "$\\qquad\\ = e^{-4} $"
   ]
  },
  {
   "cell_type": "markdown",
   "metadata": {},
   "source": [
    "## b."
   ]
  }
 ],
 "metadata": {
  "kernelspec": {
   "display_name": "Python 3",
   "language": "python",
   "name": "python3"
  },
  "language_info": {
   "codemirror_mode": {
    "name": "ipython",
    "version": 3
   },
   "file_extension": ".py",
   "mimetype": "text/x-python",
   "name": "python",
   "nbconvert_exporter": "python",
   "pygments_lexer": "ipython3",
   "version": "3.6.0"
  }
 },
 "nbformat": 4,
 "nbformat_minor": 2
}
